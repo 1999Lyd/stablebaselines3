{
 "cells": [
  {
   "cell_type": "code",
   "execution_count": 1,
   "id": "f5dc1a54",
   "metadata": {},
   "outputs": [],
   "source": [
    "\n",
    "\n",
    "import gym\n",
    "import numpy as np\n",
    "from stable_baselines3 import A2C\n",
    "from stable_baselines3.a2c.policies import MlpPolicy\n",
    "\n",
    "env = gym.make('CartPole-v1')\n",
    "\n",
    "model1 = A2C(MlpPolicy, env, verbose=0,use_n_step = False)\n",
    "from stable_baselines3.common.evaluation import evaluate_policy\n",
    "\n",
    "\n",
    "\n"
   ]
  },
  {
   "cell_type": "code",
   "execution_count": 2,
   "id": "7c065f55",
   "metadata": {},
   "outputs": [
    {
     "name": "stderr",
     "output_type": "stream",
     "text": [
      "/Users/liuyudong/Desktop/stable-baselines3/stable_baselines3/common/evaluation.py:65: UserWarning: Evaluation environment is not wrapped with a ``Monitor`` wrapper. This may result in reporting modified episode lengths and rewards, if other wrappers happen to modify these. Consider wrapping environment first with ``Monitor`` wrapper.\n",
      "  warnings.warn(\n"
     ]
    },
    {
     "name": "stdout",
     "output_type": "stream",
     "text": [
      "mean_reward:69.27 +/- 39.72\n"
     ]
    }
   ],
   "source": [
    "\n",
    "model1.learn(total_timesteps=10000)\n",
    "mean_reward, std_reward = evaluate_policy(model1, env, n_eval_episodes=100)\n",
    "\n",
    "print(f\"mean_reward:{mean_reward:.2f} +/- {std_reward:.2f}\")"
   ]
  },
  {
   "cell_type": "code",
   "execution_count": 3,
   "id": "54743cca",
   "metadata": {},
   "outputs": [
    {
     "name": "stdout",
     "output_type": "stream",
     "text": [
      "mean_reward:280.92 +/- 127.00\n"
     ]
    }
   ],
   "source": [
    "\n",
    "model2 = A2C(MlpPolicy, env, verbose=0,use_n_step = True)\n",
    "model2.learn(total_timesteps=10000)\n",
    "mean_reward, std_reward = evaluate_policy(model2, env, n_eval_episodes=100)\n",
    "print(f\"mean_reward:{mean_reward:.2f} +/- {std_reward:.2f}\")"
   ]
  },
  {
   "cell_type": "code",
   "execution_count": null,
   "id": "c2b7717c",
   "metadata": {},
   "outputs": [],
   "source": []
  }
 ],
 "metadata": {
  "kernelspec": {
   "display_name": "Python 3",
   "language": "python",
   "name": "python3"
  },
  "language_info": {
   "codemirror_mode": {
    "name": "ipython",
    "version": 3
   },
   "file_extension": ".py",
   "mimetype": "text/x-python",
   "name": "python",
   "nbconvert_exporter": "python",
   "pygments_lexer": "ipython3",
   "version": "3.8.8"
  }
 },
 "nbformat": 4,
 "nbformat_minor": 5
}
